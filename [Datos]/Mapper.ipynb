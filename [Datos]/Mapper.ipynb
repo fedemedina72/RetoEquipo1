{
 "cells": [
  {
   "cell_type": "code",
   "execution_count": 13,
   "metadata": {},
   "outputs": [],
   "source": [
    "import numpy as np\n",
    "import pandas as pd\n",
    "import kmapper as km\n",
    "from kmapper.jupyter import display\n",
    "import sklearn"
   ]
  },
  {
   "cell_type": "code",
   "execution_count": 14,
   "metadata": {},
   "outputs": [],
   "source": [
    "df1 = pd.read_csv(\"SOI.csv\")\n",
    "df2 = pd.read_csv(\"SOI_OLR.csv\")\n",
    "df3 = pd.read_csv(\"Full.csv\")"
   ]
  },
  {
   "cell_type": "code",
   "execution_count": 15,
   "metadata": {},
   "outputs": [
    {
     "data": {
      "text/plain": [
       "array([[24.28, 25.84, 28.01, 26.65],\n",
       "       [25.38, 26.26, 27.99, 26.54],\n",
       "       [25.22, 26.92, 28.18, 27.09],\n",
       "       ...,\n",
       "       [26.8 , 26.25, 27.58, 26.29],\n",
       "       [28.12, 27.52, 28.09, 27.23],\n",
       "       [28.18, 28.02, 28.81, 27.99]])"
      ]
     },
     "execution_count": 15,
     "metadata": {},
     "output_type": "execute_result"
    }
   ],
   "source": [
    "data = df3[['Nino1.2','Nino3','Nino 4','Nino3.4']].to_numpy()\n",
    "data"
   ]
  },
  {
   "attachments": {},
   "cell_type": "markdown",
   "metadata": {},
   "source": [
    "### Mapper con respecto al Nino3.4 con promedio de Nino1.2, Nino3, Nino 4"
   ]
  },
  {
   "cell_type": "code",
   "execution_count": 16,
   "metadata": {},
   "outputs": [
    {
     "name": "stdout",
     "output_type": "stream",
     "text": [
      "KeplerMapper(verbose=1)\n",
      "..Composing projection pipeline of length 1:\n",
      "\tProjections: [3]\n",
      "\tDistance matrices: False\n",
      "\tScalers: MinMaxScaler()\n",
      "..Projecting on data shaped (496, 4)\n",
      "\n",
      "..Projecting data using: [3]\n",
      "\n",
      "..Scaling with: MinMaxScaler()\n",
      "\n"
     ]
    }
   ],
   "source": [
    "mean_outer_score=(data[:,0]+data[:,1]+data[:,2])/3.0\n",
    "\n",
    "mapper = km.KeplerMapper(verbose=1)\n",
    "# La proyección sobre Nino3.4, corresponde a proyectar sobre la CUARTA columna de data\n",
    "projected_data = mapper.fit_transform(data, projection=[3] ) #Nino3.4"
   ]
  },
  {
   "cell_type": "code",
   "execution_count": 17,
   "metadata": {},
   "outputs": [
    {
     "name": "stdout",
     "output_type": "stream",
     "text": [
      "Mapping on data shaped (496, 4) using lens shaped (496, 1)\n",
      "\n",
      "Creating 4 hypercubes.\n",
      "\n",
      "Created 18 edges and 16 nodes in 0:00:00.160745.\n"
     ]
    },
    {
     "name": "stderr",
     "output_type": "stream",
     "text": [
      "c:\\Users\\patog\\miniconda3\\envs\\py3.8\\lib\\site-packages\\sklearn\\cluster\\_kmeans.py:870: FutureWarning: The default value of `n_init` will change from 10 to 'auto' in 1.4. Set the value of `n_init` explicitly to suppress the warning\n",
      "  warnings.warn(\n",
      "c:\\Users\\patog\\miniconda3\\envs\\py3.8\\lib\\site-packages\\sklearn\\cluster\\_kmeans.py:870: FutureWarning: The default value of `n_init` will change from 10 to 'auto' in 1.4. Set the value of `n_init` explicitly to suppress the warning\n",
      "  warnings.warn(\n",
      "c:\\Users\\patog\\miniconda3\\envs\\py3.8\\lib\\site-packages\\sklearn\\cluster\\_kmeans.py:870: FutureWarning: The default value of `n_init` will change from 10 to 'auto' in 1.4. Set the value of `n_init` explicitly to suppress the warning\n",
      "  warnings.warn(\n",
      "c:\\Users\\patog\\miniconda3\\envs\\py3.8\\lib\\site-packages\\sklearn\\cluster\\_kmeans.py:870: FutureWarning: The default value of `n_init` will change from 10 to 'auto' in 1.4. Set the value of `n_init` explicitly to suppress the warning\n",
      "  warnings.warn(\n"
     ]
    }
   ],
   "source": [
    "covering=km.Cover(n_cubes=4,perc_overlap=0.2)\n",
    "\n",
    "G = mapper.map(projected_data, data, clusterer=sklearn.cluster.KMeans(n_clusters=4),cover=covering)"
   ]
  },
  {
   "cell_type": "code",
   "execution_count": 18,
   "metadata": {},
   "outputs": [
    {
     "data": {
      "text/plain": [
       "{'projection': '[3]',\n",
       " 'n_cubes': 4,\n",
       " 'perc_overlap': 0.2,\n",
       " 'clusterer': 'KMeans(n_clusters=4)',\n",
       " 'scaler': 'MinMaxScaler()'}"
      ]
     },
     "execution_count": 18,
     "metadata": {},
     "output_type": "execute_result"
    }
   ],
   "source": [
    "G['meta_data']"
   ]
  },
  {
   "cell_type": "code",
   "execution_count": 19,
   "metadata": {},
   "outputs": [
    {
     "name": "stdout",
     "output_type": "stream",
     "text": [
      "Wrote visualization to: mapper_visualization_output.html\n"
     ]
    },
    {
     "name": "stderr",
     "output_type": "stream",
     "text": [
      "c:\\Users\\patog\\miniconda3\\envs\\py3.8\\lib\\site-packages\\kmapper\\visuals.py:344: RuntimeWarning: invalid value encountered in scalar divide\n",
      "  height = np.floor(((bar / max_bucket_value) * 100) + 0.5)\n",
      "c:\\Users\\patog\\miniconda3\\envs\\py3.8\\lib\\site-packages\\kmapper\\visuals.py:345: RuntimeWarning: invalid value encountered in scalar divide\n",
      "  perc = round((bar / sum_bucket_value) * 100.0, 1)\n"
     ]
    },
    {
     "data": {
      "text/html": [
       "<style>\n",
       "        .container { width:100% !important; }\n",
       "        .output_scroll {height: 800px !important;}\n",
       "        </style>"
      ],
      "text/plain": [
       "<IPython.core.display.HTML object>"
      ]
     },
     "metadata": {},
     "output_type": "display_data"
    },
    {
     "name": "stderr",
     "output_type": "stream",
     "text": [
      "c:\\Users\\patog\\miniconda3\\envs\\py3.8\\lib\\site-packages\\IPython\\core\\display.py:419: UserWarning: Consider using IPython.display.IFrame instead\n",
      "  warnings.warn(\"Consider using IPython.display.IFrame instead\")\n"
     ]
    },
    {
     "data": {
      "text/html": [
       "<iframe src=performance_math_score.html width=100%% height=800 frameBorder=\"0\"></iframe>"
      ],
      "text/plain": [
       "<IPython.core.display.HTML object>"
      ]
     },
     "metadata": {},
     "output_type": "display_data"
    }
   ],
   "source": [
    "mapper.visualize(G, \n",
    "                title='Performance Data based on Nino3.4 and Mean of other three',\n",
    "                #custom_tooltips = performance_data['gender'].to_numpy(),\n",
    "                color_values = mean_outer_score,\n",
    "                color_function_name = 'Mean of Nino1.2, Nino3 and Nino 4',\n",
    "                node_color_function=np.array(['average','std','sum','max','min']))\n",
    "\n",
    "km.jupyter.display(\"performance_math_score\" + \".html\")"
   ]
  },
  {
   "attachments": {},
   "cell_type": "markdown",
   "metadata": {},
   "source": [
    "### Mapper con respecto Anom3.4 con promedio de OLR y SOI"
   ]
  },
  {
   "cell_type": "code",
   "execution_count": 20,
   "metadata": {},
   "outputs": [
    {
     "data": {
      "text/plain": [
       "array([[ 0.08,  0.9 ,  1.2 ],\n",
       "       [-0.2 ,  0.1 ,  0.3 ],\n",
       "       [-0.14, -0.6 ,  0.6 ],\n",
       "       ...,\n",
       "       [-0.44,  1.4 ,  1.4 ],\n",
       "       [-0.01,  1.4 ,  0.2 ],\n",
       "       [ 0.1 ,  0.6 ,  0.  ]])"
      ]
     },
     "execution_count": 20,
     "metadata": {},
     "output_type": "execute_result"
    }
   ],
   "source": [
    "data1 = df3[['Anom3.4','OLR','SOI']].to_numpy()\n",
    "data1"
   ]
  },
  {
   "cell_type": "code",
   "execution_count": 21,
   "metadata": {},
   "outputs": [
    {
     "name": "stdout",
     "output_type": "stream",
     "text": [
      "KeplerMapper(verbose=1)\n",
      "..Composing projection pipeline of length 1:\n",
      "\tProjections: [0]\n",
      "\tDistance matrices: False\n",
      "\tScalers: MinMaxScaler()\n",
      "..Projecting on data shaped (496, 3)\n",
      "\n",
      "..Projecting data using: [0]\n",
      "\n",
      "..Scaling with: MinMaxScaler()\n",
      "\n"
     ]
    }
   ],
   "source": [
    "mean_outer_score1=(data1[:,1]+data1[:,2])/2.0\n",
    "\n",
    "mapper1 = km.KeplerMapper(verbose=1)\n",
    "# La proyección sobre Anom3.4, corresponde a proyectar sobre la PRIMER columna de data\n",
    "projected_data1 = mapper1.fit_transform(data1, projection=[0] ) #Anom3.4"
   ]
  },
  {
   "cell_type": "code",
   "execution_count": 22,
   "metadata": {},
   "outputs": [
    {
     "name": "stdout",
     "output_type": "stream",
     "text": [
      "Mapping on data shaped (496, 3) using lens shaped (496, 1)\n",
      "\n",
      "Creating 4 hypercubes.\n",
      "\n",
      "Created 17 edges and 16 nodes in 0:00:00.184278.\n"
     ]
    },
    {
     "name": "stderr",
     "output_type": "stream",
     "text": [
      "c:\\Users\\patog\\miniconda3\\envs\\py3.8\\lib\\site-packages\\sklearn\\cluster\\_kmeans.py:870: FutureWarning: The default value of `n_init` will change from 10 to 'auto' in 1.4. Set the value of `n_init` explicitly to suppress the warning\n",
      "  warnings.warn(\n",
      "c:\\Users\\patog\\miniconda3\\envs\\py3.8\\lib\\site-packages\\sklearn\\cluster\\_kmeans.py:870: FutureWarning: The default value of `n_init` will change from 10 to 'auto' in 1.4. Set the value of `n_init` explicitly to suppress the warning\n",
      "  warnings.warn(\n",
      "c:\\Users\\patog\\miniconda3\\envs\\py3.8\\lib\\site-packages\\sklearn\\cluster\\_kmeans.py:870: FutureWarning: The default value of `n_init` will change from 10 to 'auto' in 1.4. Set the value of `n_init` explicitly to suppress the warning\n",
      "  warnings.warn(\n",
      "c:\\Users\\patog\\miniconda3\\envs\\py3.8\\lib\\site-packages\\sklearn\\cluster\\_kmeans.py:870: FutureWarning: The default value of `n_init` will change from 10 to 'auto' in 1.4. Set the value of `n_init` explicitly to suppress the warning\n",
      "  warnings.warn(\n"
     ]
    }
   ],
   "source": [
    "covering1=km.Cover(n_cubes=4,perc_overlap=0.2)\n",
    "\n",
    "G1 = mapper1.map(projected_data1, data1, clusterer=sklearn.cluster.KMeans(n_clusters=4),cover=covering1)"
   ]
  },
  {
   "cell_type": "code",
   "execution_count": 23,
   "metadata": {},
   "outputs": [
    {
     "data": {
      "text/plain": [
       "{'projection': '[0]',\n",
       " 'n_cubes': 4,\n",
       " 'perc_overlap': 0.2,\n",
       " 'clusterer': 'KMeans(n_clusters=4)',\n",
       " 'scaler': 'MinMaxScaler()'}"
      ]
     },
     "execution_count": 23,
     "metadata": {},
     "output_type": "execute_result"
    }
   ],
   "source": [
    "G1['meta_data']"
   ]
  },
  {
   "cell_type": "code",
   "execution_count": 24,
   "metadata": {},
   "outputs": [
    {
     "name": "stdout",
     "output_type": "stream",
     "text": [
      "Wrote visualization to: mapper_visualization_output.html\n"
     ]
    },
    {
     "data": {
      "text/html": [
       "<style>\n",
       "        .container { width:100% !important; }\n",
       "        .output_scroll {height: 800px !important;}\n",
       "        </style>"
      ],
      "text/plain": [
       "<IPython.core.display.HTML object>"
      ]
     },
     "metadata": {},
     "output_type": "display_data"
    },
    {
     "name": "stderr",
     "output_type": "stream",
     "text": [
      "c:\\Users\\patog\\miniconda3\\envs\\py3.8\\lib\\site-packages\\IPython\\core\\display.py:419: UserWarning: Consider using IPython.display.IFrame instead\n",
      "  warnings.warn(\"Consider using IPython.display.IFrame instead\")\n"
     ]
    },
    {
     "data": {
      "text/html": [
       "<iframe src=performance_math_score.html width=100%% height=800 frameBorder=\"0\"></iframe>"
      ],
      "text/plain": [
       "<IPython.core.display.HTML object>"
      ]
     },
     "metadata": {},
     "output_type": "display_data"
    }
   ],
   "source": [
    "mapper1.visualize(G1, \n",
    "                title='Performance Data based on Anom3.4 and Mean of other TWO',\n",
    "                #custom_tooltips = performance_data['gender'].to_numpy(),\n",
    "                color_values = mean_outer_score1,\n",
    "                color_function_name = 'Mean of OLR and SOI',\n",
    "                node_color_function=np.array(['average','std','sum','max','min']))\n",
    "\n",
    "km.jupyter.display(\"performance_math_score\" + \".html\")"
   ]
  }
 ],
 "metadata": {
  "kernelspec": {
   "display_name": "base",
   "language": "python",
   "name": "python3"
  },
  "language_info": {
   "codemirror_mode": {
    "name": "ipython",
    "version": 3
   },
   "file_extension": ".py",
   "mimetype": "text/x-python",
   "name": "python",
   "nbconvert_exporter": "python",
   "pygments_lexer": "ipython3",
   "version": "3.8.16"
  },
  "orig_nbformat": 4
 },
 "nbformat": 4,
 "nbformat_minor": 2
}
