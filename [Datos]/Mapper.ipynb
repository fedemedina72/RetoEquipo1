{
 "cells": [
  {
   "cell_type": "code",
   "execution_count": 6,
   "metadata": {},
   "outputs": [],
   "source": [
    "import numpy as np\n",
    "import pandas as pd\n",
    "import kmapper as km\n",
    "from kmapper.jupyter import display\n",
    "import sklearn"
   ]
  },
  {
   "cell_type": "code",
   "execution_count": 7,
   "metadata": {},
   "outputs": [],
   "source": [
    "df1 = pd.read_csv(\"SOI.csv\")\n",
    "df2 = pd.read_csv(\"SOI_OLR.csv\")\n",
    "df3 = pd.read_csv(\"Full.csv\")"
   ]
  },
  {
   "cell_type": "code",
   "execution_count": 8,
   "metadata": {},
   "outputs": [
    {
     "data": {
      "text/plain": [
       "array([[24.28, 25.84, 28.01, 26.65],\n",
       "       [25.38, 26.26, 27.99, 26.54],\n",
       "       [25.22, 26.92, 28.18, 27.09],\n",
       "       ...,\n",
       "       [26.8 , 26.25, 27.58, 26.29],\n",
       "       [28.12, 27.52, 28.09, 27.23],\n",
       "       [28.18, 28.02, 28.81, 27.99]])"
      ]
     },
     "execution_count": 8,
     "metadata": {},
     "output_type": "execute_result"
    }
   ],
   "source": [
    "data = df3[['Nino1.2','Nino3','Nino 4','Nino3.4']].to_numpy()\n",
    "data"
   ]
  },
  {
   "attachments": {},
   "cell_type": "markdown",
   "metadata": {},
   "source": [
    "### Mapper con respecto al Nino3.4 con promedio de Nino3, Nino 4"
   ]
  },
  {
   "cell_type": "code",
   "execution_count": 9,
   "metadata": {},
   "outputs": [
    {
     "name": "stdout",
     "output_type": "stream",
     "text": [
      "KeplerMapper(verbose=1)\n",
      "..Composing projection pipeline of length 1:\n",
      "\tProjections: [3]\n",
      "\tDistance matrices: False\n",
      "\tScalers: MinMaxScaler()\n",
      "..Projecting on data shaped (496, 4)\n",
      "\n",
      "..Projecting data using: [3]\n",
      "\n",
      "..Scaling with: MinMaxScaler()\n",
      "\n"
     ]
    }
   ],
   "source": [
    "mean_outer_score=(data[:,1]+data[:,2])/3.0\n",
    "\n",
    "mapper = km.KeplerMapper(verbose=1)\n",
    "# La proyección sobre Nino3.4, corresponde a proyectar sobre la CUARTA columna de data\n",
    "projected_data = mapper.fit_transform(data, projection=[3] ) #Nino3.4"
   ]
  },
  {
   "cell_type": "code",
   "execution_count": 10,
   "metadata": {},
   "outputs": [
    {
     "name": "stdout",
     "output_type": "stream",
     "text": [
      "Mapping on data shaped (496, 4) using lens shaped (496, 1)\n",
      "\n",
      "Creating 4 hypercubes.\n"
     ]
    },
    {
     "name": "stderr",
     "output_type": "stream",
     "text": [
      "c:\\Users\\feder\\anaconda3\\envs\\RetoEquipo1\\lib\\site-packages\\sklearn\\cluster\\_kmeans.py:870: FutureWarning: The default value of `n_init` will change from 10 to 'auto' in 1.4. Set the value of `n_init` explicitly to suppress the warning\n",
      "  warnings.warn(\n",
      "c:\\Users\\feder\\anaconda3\\envs\\RetoEquipo1\\lib\\site-packages\\sklearn\\cluster\\_kmeans.py:870: FutureWarning: The default value of `n_init` will change from 10 to 'auto' in 1.4. Set the value of `n_init` explicitly to suppress the warning\n",
      "  warnings.warn(\n",
      "c:\\Users\\feder\\anaconda3\\envs\\RetoEquipo1\\lib\\site-packages\\sklearn\\cluster\\_kmeans.py:870: FutureWarning: The default value of `n_init` will change from 10 to 'auto' in 1.4. Set the value of `n_init` explicitly to suppress the warning\n",
      "  warnings.warn(\n",
      "c:\\Users\\feder\\anaconda3\\envs\\RetoEquipo1\\lib\\site-packages\\sklearn\\cluster\\_kmeans.py:870: FutureWarning: The default value of `n_init` will change from 10 to 'auto' in 1.4. Set the value of `n_init` explicitly to suppress the warning\n",
      "  warnings.warn(\n"
     ]
    },
    {
     "name": "stdout",
     "output_type": "stream",
     "text": [
      "\n",
      "Created 17 edges and 16 nodes in 0:00:00.217554.\n"
     ]
    }
   ],
   "source": [
    "covering=km.Cover(n_cubes=4,perc_overlap=0.2)\n",
    "\n",
    "G = mapper.map(projected_data, data, clusterer=sklearn.cluster.KMeans(n_clusters=4),cover=covering)"
   ]
  },
  {
   "cell_type": "code",
   "execution_count": 11,
   "metadata": {},
   "outputs": [
    {
     "data": {
      "text/plain": [
       "{'projection': '[3]',\n",
       " 'n_cubes': 4,\n",
       " 'perc_overlap': 0.2,\n",
       " 'clusterer': 'KMeans(n_clusters=4)',\n",
       " 'scaler': 'MinMaxScaler()'}"
      ]
     },
     "execution_count": 11,
     "metadata": {},
     "output_type": "execute_result"
    }
   ],
   "source": [
    "G['meta_data']"
   ]
  },
  {
   "cell_type": "code",
   "execution_count": 12,
   "metadata": {},
   "outputs": [
    {
     "name": "stdout",
     "output_type": "stream",
     "text": [
      "Wrote visualization to: mapper_visualization_output.html\n"
     ]
    },
    {
     "name": "stderr",
     "output_type": "stream",
     "text": [
      "c:\\Users\\feder\\anaconda3\\envs\\RetoEquipo1\\lib\\site-packages\\kmapper\\visuals.py:344: RuntimeWarning: invalid value encountered in scalar divide\n",
      "  height = np.floor(((bar / max_bucket_value) * 100) + 0.5)\n",
      "c:\\Users\\feder\\anaconda3\\envs\\RetoEquipo1\\lib\\site-packages\\kmapper\\visuals.py:345: RuntimeWarning: invalid value encountered in scalar divide\n",
      "  perc = round((bar / sum_bucket_value) * 100.0, 1)\n"
     ]
    },
    {
     "data": {
      "text/html": [
       "<style>\n",
       "        .container { width:100% !important; }\n",
       "        .output_scroll {height: 800px !important;}\n",
       "        </style>"
      ],
      "text/plain": [
       "<IPython.core.display.HTML object>"
      ]
     },
     "metadata": {},
     "output_type": "display_data"
    },
    {
     "name": "stderr",
     "output_type": "stream",
     "text": [
      "c:\\Users\\feder\\anaconda3\\envs\\RetoEquipo1\\lib\\site-packages\\IPython\\core\\display.py:419: UserWarning: Consider using IPython.display.IFrame instead\n",
      "  warnings.warn(\"Consider using IPython.display.IFrame instead\")\n"
     ]
    },
    {
     "data": {
      "text/html": [
       "<iframe src=performance_math_score.html width=100%% height=800 frameBorder=\"0\"></iframe>"
      ],
      "text/plain": [
       "<IPython.core.display.HTML object>"
      ]
     },
     "metadata": {},
     "output_type": "display_data"
    }
   ],
   "source": [
    "mapper.visualize(G, \n",
    "                title='Performance Data based on Nino3.4 and Mean of other three',\n",
    "                #custom_tooltips = performance_data['gender'].to_numpy(),\n",
    "                color_values = mean_outer_score,\n",
    "                color_function_name = 'Mean of Nino3 and Nino 4',\n",
    "                node_color_function=np.array(['average','std','sum','max','min']))\n",
    "\n",
    "km.jupyter.display(\"performance_math_score\" + \".html\")"
   ]
  },
  {
   "attachments": {},
   "cell_type": "markdown",
   "metadata": {},
   "source": [
    "### Mapper con respecto Anom3.4 con promedio de OLR y SOI"
   ]
  },
  {
   "cell_type": "code",
   "execution_count": 20,
   "metadata": {},
   "outputs": [
    {
     "data": {
      "text/plain": [
       "array([[ 0.08,  0.9 ,  1.2 ],\n",
       "       [-0.2 ,  0.1 ,  0.3 ],\n",
       "       [-0.14, -0.6 ,  0.6 ],\n",
       "       ...,\n",
       "       [-0.44,  1.4 ,  1.4 ],\n",
       "       [-0.01,  1.4 ,  0.2 ],\n",
       "       [ 0.1 ,  0.6 ,  0.  ]])"
      ]
     },
     "execution_count": 20,
     "metadata": {},
     "output_type": "execute_result"
    }
   ],
   "source": [
    "data1 = df3[['Anom3.4','OLR','SOI']].to_numpy()\n",
    "data1"
   ]
  },
  {
   "cell_type": "code",
   "execution_count": 21,
   "metadata": {},
   "outputs": [
    {
     "name": "stdout",
     "output_type": "stream",
     "text": [
      "KeplerMapper(verbose=1)\n",
      "..Composing projection pipeline of length 1:\n",
      "\tProjections: [0]\n",
      "\tDistance matrices: False\n",
      "\tScalers: MinMaxScaler()\n",
      "..Projecting on data shaped (496, 3)\n",
      "\n",
      "..Projecting data using: [0]\n",
      "\n",
      "..Scaling with: MinMaxScaler()\n",
      "\n"
     ]
    }
   ],
   "source": [
    "mean_outer_score1=(data1[:,1]+data1[:,2])/2.0\n",
    "\n",
    "mapper1 = km.KeplerMapper(verbose=1)\n",
    "# La proyección sobre Anom3.4, corresponde a proyectar sobre la PRIMER columna de data\n",
    "projected_data1 = mapper1.fit_transform(data1, projection=[0] ) #Anom3.4"
   ]
  },
  {
   "cell_type": "code",
   "execution_count": 22,
   "metadata": {},
   "outputs": [
    {
     "name": "stdout",
     "output_type": "stream",
     "text": [
      "Mapping on data shaped (496, 3) using lens shaped (496, 1)\n",
      "\n",
      "Creating 4 hypercubes.\n",
      "\n",
      "Created 17 edges and 16 nodes in 0:00:00.184278.\n"
     ]
    },
    {
     "name": "stderr",
     "output_type": "stream",
     "text": [
      "c:\\Users\\patog\\miniconda3\\envs\\py3.8\\lib\\site-packages\\sklearn\\cluster\\_kmeans.py:870: FutureWarning: The default value of `n_init` will change from 10 to 'auto' in 1.4. Set the value of `n_init` explicitly to suppress the warning\n",
      "  warnings.warn(\n",
      "c:\\Users\\patog\\miniconda3\\envs\\py3.8\\lib\\site-packages\\sklearn\\cluster\\_kmeans.py:870: FutureWarning: The default value of `n_init` will change from 10 to 'auto' in 1.4. Set the value of `n_init` explicitly to suppress the warning\n",
      "  warnings.warn(\n",
      "c:\\Users\\patog\\miniconda3\\envs\\py3.8\\lib\\site-packages\\sklearn\\cluster\\_kmeans.py:870: FutureWarning: The default value of `n_init` will change from 10 to 'auto' in 1.4. Set the value of `n_init` explicitly to suppress the warning\n",
      "  warnings.warn(\n",
      "c:\\Users\\patog\\miniconda3\\envs\\py3.8\\lib\\site-packages\\sklearn\\cluster\\_kmeans.py:870: FutureWarning: The default value of `n_init` will change from 10 to 'auto' in 1.4. Set the value of `n_init` explicitly to suppress the warning\n",
      "  warnings.warn(\n"
     ]
    }
   ],
   "source": [
    "covering1=km.Cover(n_cubes=4,perc_overlap=0.2)\n",
    "\n",
    "G1 = mapper1.map(projected_data1, data1, clusterer=sklearn.cluster.KMeans(n_clusters=4),cover=covering1)"
   ]
  },
  {
   "cell_type": "code",
   "execution_count": 23,
   "metadata": {},
   "outputs": [
    {
     "data": {
      "text/plain": [
       "{'projection': '[0]',\n",
       " 'n_cubes': 4,\n",
       " 'perc_overlap': 0.2,\n",
       " 'clusterer': 'KMeans(n_clusters=4)',\n",
       " 'scaler': 'MinMaxScaler()'}"
      ]
     },
     "execution_count": 23,
     "metadata": {},
     "output_type": "execute_result"
    }
   ],
   "source": [
    "G1['meta_data']"
   ]
  },
  {
   "cell_type": "code",
   "execution_count": 24,
   "metadata": {},
   "outputs": [
    {
     "name": "stdout",
     "output_type": "stream",
     "text": [
      "Wrote visualization to: mapper_visualization_output.html\n"
     ]
    },
    {
     "data": {
      "text/html": [
       "<style>\n",
       "        .container { width:100% !important; }\n",
       "        .output_scroll {height: 800px !important;}\n",
       "        </style>"
      ],
      "text/plain": [
       "<IPython.core.display.HTML object>"
      ]
     },
     "metadata": {},
     "output_type": "display_data"
    },
    {
     "name": "stderr",
     "output_type": "stream",
     "text": [
      "c:\\Users\\patog\\miniconda3\\envs\\py3.8\\lib\\site-packages\\IPython\\core\\display.py:419: UserWarning: Consider using IPython.display.IFrame instead\n",
      "  warnings.warn(\"Consider using IPython.display.IFrame instead\")\n"
     ]
    },
    {
     "data": {
      "text/html": [
       "<iframe src=performance_math_score.html width=100%% height=800 frameBorder=\"0\"></iframe>"
      ],
      "text/plain": [
       "<IPython.core.display.HTML object>"
      ]
     },
     "metadata": {},
     "output_type": "display_data"
    }
   ],
   "source": [
    "mapper1.visualize(G1, \n",
    "                title='Performance Data based on Anom3.4 and Mean of other TWO',\n",
    "                #custom_tooltips = performance_data['gender'].to_numpy(),\n",
    "                color_values = mean_outer_score1,\n",
    "                color_function_name = 'Mean of OLR and SOI',\n",
    "                node_color_function=np.array(['average','std','sum','max','min']))\n",
    "\n",
    "km.jupyter.display(\"performance_math_score\" + \".html\")"
   ]
  },
  {
   "attachments": {},
   "cell_type": "markdown",
   "metadata": {},
   "source": [
    "### Mapper con promedio de OLR y SOI con respecto a Anom3.4"
   ]
  },
  {
   "cell_type": "code",
   "execution_count": 27,
   "metadata": {},
   "outputs": [
    {
     "data": {
      "text/plain": [
       "array([[ 0.08      ,  1.05      ],\n",
       "       [-0.2       ,  0.2       ],\n",
       "       [-0.14      ,  0.        ],\n",
       "       [ 0.02      ,  0.05      ],\n",
       "       [ 0.49      ,  0.05      ],\n",
       "       [ 0.65      , -0.6       ],\n",
       "       [ 0.27      , -1.35      ],\n",
       "       [ 0.86      , -1.65      ],\n",
       "       [ 1.24      , -1.55      ],\n",
       "       [ 1.73      , -1.75      ],\n",
       "       [ 1.68      , -2.3       ],\n",
       "       [ 2.21      , -1.55      ],\n",
       "       [ 2.13      , -2.5       ],\n",
       "       [ 1.81      , -2.15      ],\n",
       "       [ 1.22      , -1.15      ],\n",
       "       [ 0.68      , -0.3       ],\n",
       "       [ 0.68      , -0.1       ],\n",
       "       [ 0.45      , -0.45      ],\n",
       "       [-0.33      , -0.8       ],\n",
       "       [-0.44      ,  0.        ],\n",
       "       [-0.38      ,  0.4       ],\n",
       "       [-1.02      ,  0.35      ],\n",
       "       [-1.29      ,  0.05      ],\n",
       "       [-1.16      ,  0.55      ],\n",
       "       [-0.96      ,  0.95      ],\n",
       "       [-0.16      ,  1.4       ],\n",
       "       [-0.52      ,  0.5       ],\n",
       "       [-0.54      ,  0.7       ],\n",
       "       [-0.69      ,  0.45      ],\n",
       "       [-1.03      ,  0.1       ],\n",
       "       [-0.68      ,  0.15      ],\n",
       "       [-0.54      ,  0.3       ],\n",
       "       [-0.41      ,  0.2       ],\n",
       "       [-0.75      , -0.05      ],\n",
       "       [-1.3       ,  0.05      ],\n",
       "       [-1.48      ,  0.        ],\n",
       "       [-1.3       , -0.05      ],\n",
       "       [-0.92      ,  1.2       ],\n",
       "       [-0.89      ,  0.05      ],\n",
       "       [-1.1       ,  1.        ],\n",
       "       [-1.08      ,  0.75      ],\n",
       "       [-1.08      ,  0.05      ],\n",
       "       [-0.8       ,  0.1       ],\n",
       "       [-0.63      ,  0.7       ],\n",
       "       [-0.77      ,  0.        ],\n",
       "       [-0.74      , -0.1       ],\n",
       "       [-0.59      , -0.15      ],\n",
       "       [-0.59      ,  0.15      ],\n",
       "       [-0.72      ,  0.6       ],\n",
       "       [-0.78      , -0.05      ],\n",
       "       [-0.6       ,  0.8       ],\n",
       "       [-0.52      ,  0.35      ],\n",
       "       [-0.56      ,  0.1       ],\n",
       "       [-0.33      ,  0.4       ],\n",
       "       [-0.04      ,  0.05      ],\n",
       "       [ 0.19      , -0.1       ],\n",
       "       [ 0.4       , -0.75      ],\n",
       "       [ 0.51      , -0.1       ],\n",
       "       [ 0.54      , -1.35      ],\n",
       "       [ 0.82      , -1.9       ],\n",
       "       [ 0.94      , -1.5       ],\n",
       "       [ 0.82      , -1.75      ],\n",
       "       [ 0.89      , -1.3       ],\n",
       "       [ 0.45      , -1.35      ],\n",
       "       [ 0.32      , -1.6       ],\n",
       "       [ 0.72      , -1.15      ],\n",
       "       [ 1.04      , -1.8       ],\n",
       "       [ 1.2       , -1.25      ],\n",
       "       [ 1.32      , -0.8       ],\n",
       "       [ 0.97      , -0.8       ],\n",
       "       [ 0.85      , -0.35      ],\n",
       "       [ 0.77      , -0.9       ],\n",
       "       [ 0.67      , -0.5       ],\n",
       "       [ 0.22      , -0.55      ],\n",
       "       [ 0.06      ,  0.5       ],\n",
       "       [-0.55      ,  0.15      ],\n",
       "       [-1.32      ,  0.75      ],\n",
       "       [-1.7       ,  0.5       ],\n",
       "       [-1.73      ,  0.95      ],\n",
       "       [-1.43      ,  1.3       ],\n",
       "       [-0.93      ,  1.45      ],\n",
       "       [-2.01      ,  1.1       ],\n",
       "       [-2.22      ,  1.45      ],\n",
       "       [-2.01      ,  1.4       ],\n",
       "       [-2.        ,  1.6       ],\n",
       "       [-1.48      ,  1.45      ],\n",
       "       [-1.44      ,  1.2       ],\n",
       "       [-1.32      ,  1.1       ],\n",
       "       [-0.89      ,  0.8       ],\n",
       "       [-0.67      ,  0.65      ],\n",
       "       [-0.57      ,  0.65      ],\n",
       "       [-0.72      ,  0.1       ],\n",
       "       [-0.51      ,  0.5       ],\n",
       "       [-0.55      ,  0.5       ],\n",
       "       [-0.62      , -0.4       ],\n",
       "       [-0.2       , -0.35      ],\n",
       "       [-0.11      , -0.55      ],\n",
       "       [ 0.01      , -1.4       ],\n",
       "       [-0.18      , -0.9       ],\n",
       "       [-0.06      , -0.25      ],\n",
       "       [ 0.04      ,  0.6       ],\n",
       "       [-0.26      ,  0.2       ],\n",
       "       [-0.03      ,  0.15      ],\n",
       "       [ 0.09      , -0.45      ],\n",
       "       [-0.03      , -0.7       ],\n",
       "       [ 0.18      ,  0.1       ],\n",
       "       [-0.09      , -0.5       ],\n",
       "       [ 0.22      , -0.35      ],\n",
       "       [ 0.33      ,  0.1       ],\n",
       "       [ 0.14      , -0.15      ],\n",
       "       [-0.08      , -0.55      ],\n",
       "       [ 0.08      , -0.3       ],\n",
       "       [ 0.25      , -0.55      ],\n",
       "       [ 0.39      , -0.15      ],\n",
       "       [ 0.47      , -0.25      ],\n",
       "       [ 0.6       , -0.7       ],\n",
       "       [ 0.31      , -1.1       ],\n",
       "       [ 0.64      , -0.8       ],\n",
       "       [ 0.89      , -1.6       ],\n",
       "       [ 1.5       , -1.8       ],\n",
       "       [ 1.67      , -2.55      ],\n",
       "       [ 1.55      , -1.1       ],\n",
       "       [ 1.16      , -2.        ],\n",
       "       [ 1.        , -1.3       ],\n",
       "       [ 0.91      , -0.75      ],\n",
       "       [ 0.42      , -0.8       ],\n",
       "       [ 0.15      , -0.5       ],\n",
       "       [-0.08      ,  0.1       ],\n",
       "       [-0.16      ,  0.05      ],\n",
       "       [-0.5       , -0.95      ],\n",
       "       [-0.18      , -0.9       ],\n",
       "       [ 0.14      , -1.05      ],\n",
       "       [ 0.16      , -0.8       ],\n",
       "       [ 0.34      , -1.15      ],\n",
       "       [ 0.23      , -0.75      ],\n",
       "       [ 0.32      , -1.6       ],\n",
       "       [ 0.65      , -0.9       ],\n",
       "       [ 0.15      , -1.1       ],\n",
       "       [ 0.22      , -1.05      ],\n",
       "       [-0.04      , -0.75      ],\n",
       "       [ 0.24      , -0.8       ],\n",
       "       [ 0.19      , -1.3       ],\n",
       "       [ 0.08      , -0.1       ],\n",
       "       [ 0.1       , -0.25      ],\n",
       "       [ 0.02      , -0.1       ],\n",
       "       [-0.08      ,  0.45      ],\n",
       "       [ 0.15      , -0.2       ],\n",
       "       [ 0.08      , -0.8       ],\n",
       "       [ 0.12      , -0.4       ],\n",
       "       [ 0.13      , -0.15      ],\n",
       "       [-0.01      , -0.8       ],\n",
       "       [ 0.4       , -0.9       ],\n",
       "       [ 0.28      , -1.3       ],\n",
       "       [ 0.6       , -0.85      ],\n",
       "       [ 0.91      , -1.        ],\n",
       "       [ 1.15      , -2.        ],\n",
       "       [ 0.75      , -1.05      ],\n",
       "       [ 0.64      , -0.35      ],\n",
       "       [ 0.3       ,  0.4       ],\n",
       "       [ 0.07      , -0.25      ],\n",
       "       [-0.21      , -0.1       ],\n",
       "       [-0.36      ,  0.25      ],\n",
       "       [-0.21      ,  0.4       ],\n",
       "       [-0.57      ,  0.5       ],\n",
       "       [-0.66      ,  0.35      ],\n",
       "       [-0.94      ,  0.45      ],\n",
       "       [-1.01      ,  0.4       ],\n",
       "       [-0.91      ,  0.25      ],\n",
       "       [-0.83      ,  1.35      ],\n",
       "       [-0.77      ,  0.95      ],\n",
       "       [-0.66      ,  1.1       ],\n",
       "       [-0.49      ,  0.6       ],\n",
       "       [-0.51      ,  0.35      ],\n",
       "       [-0.48      ,  0.85      ],\n",
       "       [-0.37      ,  0.6       ],\n",
       "       [-0.31      ,  0.6       ],\n",
       "       [-0.35      ,  0.6       ],\n",
       "       [-0.55      ,  0.55      ],\n",
       "       [-0.43      ,  0.2       ],\n",
       "       [-0.6       ,  0.8       ],\n",
       "       [-0.61      ,  0.5       ],\n",
       "       [-0.39      ,  1.1       ],\n",
       "       [-0.36      , -0.7       ],\n",
       "       [-0.11      , -0.9       ],\n",
       "       [ 0.4       , -1.5       ],\n",
       "       [ 0.81      , -1.15      ],\n",
       "       [ 1.27      , -1.15      ],\n",
       "       [ 1.68      , -1.55      ],\n",
       "       [ 1.84      , -1.4       ],\n",
       "       [ 1.96      , -2.05      ],\n",
       "       [ 2.11      , -0.9       ],\n",
       "       [ 2.1       , -1.25      ],\n",
       "       [ 2.03      , -1.7       ],\n",
       "       [ 1.74      , -1.15      ],\n",
       "       [ 1.18      , -1.15      ],\n",
       "       [ 0.5       , -0.2       ],\n",
       "       [ 0.45      ,  0.        ],\n",
       "       [-0.75      ,  0.45      ],\n",
       "       [-1.15      ,  0.85      ],\n",
       "       [-1.2       ,  0.9       ],\n",
       "       [-1.03      ,  0.95      ],\n",
       "       [-1.34      ,  0.95      ],\n",
       "       [-1.31      ,  1.        ],\n",
       "       [-1.73      ,  1.35      ],\n",
       "       [-1.58      ,  1.8       ],\n",
       "       [-1.1       ,  1.15      ],\n",
       "       [-0.89      ,  1.4       ],\n",
       "       [-0.99      ,  1.2       ],\n",
       "       [-0.92      ,  0.45      ],\n",
       "       [-1.08      ,  0.4       ],\n",
       "       [-1.03      ,  0.35      ],\n",
       "       [-1.22      ,  0.55      ],\n",
       "       [-1.03      ,  0.45      ],\n",
       "       [-1.19      ,  0.95      ],\n",
       "       [-1.63      ,  0.85      ],\n",
       "       [-1.65      ,  1.6       ],\n",
       "       [-1.77      ,  1.2       ],\n",
       "       [-1.52      ,  1.95      ],\n",
       "       [-1.13      ,  1.55      ],\n",
       "       [-0.9       ,  1.15      ],\n",
       "       [-0.97      ,  0.4       ],\n",
       "       [-0.7       ,  0.3       ],\n",
       "       [-0.73      ,  0.3       ],\n",
       "       [-0.51      ,  0.3       ],\n",
       "       [-0.52      ,  0.7       ],\n",
       "       [-0.71      ,  0.75      ],\n",
       "       [-0.9       ,  1.25      ],\n",
       "       [-1.05      ,  0.9       ],\n",
       "       [-0.76      ,  1.25      ],\n",
       "       [-0.56      ,  1.15      ],\n",
       "       [-0.37      ,  0.85      ],\n",
       "       [-0.56      ,  0.1       ],\n",
       "       [-0.46      , -0.35      ],\n",
       "       [-0.16      ,  0.15      ],\n",
       "       [-0.11      , -0.1       ],\n",
       "       [-0.09      , -0.4       ],\n",
       "       [-0.19      ,  0.25      ],\n",
       "       [-0.25      , -0.05      ],\n",
       "       [-0.48      ,  0.15      ],\n",
       "       [-0.53      , -1.3       ],\n",
       "       [-0.2       ,  0.1       ],\n",
       "       [ 0.03      , -0.05      ],\n",
       "       [-0.06      , -0.6       ],\n",
       "       [ 0.03      ,  0.1       ],\n",
       "       [ 0.19      , -0.35      ],\n",
       "       [ 0.6       , -0.45      ],\n",
       "       [ 0.58      , -0.15      ],\n",
       "       [ 0.66      , -1.3       ],\n",
       "       [ 0.85      , -1.25      ],\n",
       "       [ 1.02      , -0.95      ],\n",
       "       [ 1.2       , -1.15      ],\n",
       "       [ 1.3       , -1.35      ],\n",
       "       [ 0.88      , -1.25      ],\n",
       "       [ 0.65      , -0.9       ],\n",
       "       [ 0.5       , -0.55      ],\n",
       "       [-0.14      ,  0.1       ],\n",
       "       [-0.6       , -0.1       ],\n",
       "       [-0.34      ,  0.1       ],\n",
       "       [ 0.04      ,  0.05      ],\n",
       "       [ 0.04      ,  0.3       ],\n",
       "       [ 0.18      , -0.05      ],\n",
       "       [ 0.42      ,  0.        ],\n",
       "       [ 0.21      ,  0.1       ],\n",
       "       [ 0.34      ,  0.5       ],\n",
       "       [ 0.22      , -1.1       ],\n",
       "       [ 0.16      ,  0.8       ],\n",
       "       [-0.18      , -0.05      ],\n",
       "       [-0.04      , -0.85      ],\n",
       "       [ 0.07      ,  0.65      ],\n",
       "       [-0.        , -0.95      ],\n",
       "       [ 0.47      , -0.2       ],\n",
       "       [ 0.61      , -0.35      ],\n",
       "       [ 0.67      , -0.3       ],\n",
       "       [ 0.64      , -0.2       ],\n",
       "       [ 0.59      , -0.75      ],\n",
       "       [ 0.63      , -0.45      ],\n",
       "       [ 0.61      ,  0.1       ],\n",
       "       [ 0.24      , -2.65      ],\n",
       "       [ 0.27      ,  0.15      ],\n",
       "       [ 0.13      , -0.55      ],\n",
       "       [ 0.22      , -0.5       ],\n",
       "       [ 0.2       ,  0.25      ],\n",
       "       [ 0.08      , -0.2       ],\n",
       "       [ 0.06      ,  0.        ],\n",
       "       [-0.12      ,  0.15      ],\n",
       "       [-0.07      ,  0.6       ],\n",
       "       [-0.54      ,  0.1       ],\n",
       "       [-0.8       ,  0.4       ],\n",
       "       [-0.93      ,  1.25      ],\n",
       "       [-0.67      ,  0.25      ],\n",
       "       [-0.66      ,  1.45      ],\n",
       "       [-0.28      ,  0.7       ],\n",
       "       [-0.06      ,  0.1       ],\n",
       "       [ 0.08      , -0.3       ],\n",
       "       [-0.01      , -0.3       ],\n",
       "       [ 0.33      , -0.75      ],\n",
       "       [ 0.53      , -0.55      ],\n",
       "       [ 0.65      , -1.15      ],\n",
       "       [ 0.85      , -0.3       ],\n",
       "       [ 1.1       , -0.55      ],\n",
       "       [ 0.75      , -1.1       ],\n",
       "       [ 0.11      , -0.1       ],\n",
       "       [-0.08      ,  0.3       ],\n",
       "       [-0.1       , -0.1       ],\n",
       "       [-0.43      ,  0.        ],\n",
       "       [-0.14      ,  0.45      ],\n",
       "       [-0.41      ,  0.2       ],\n",
       "       [-0.58      ,  0.4       ],\n",
       "       [-0.86      ,  0.35      ],\n",
       "       [-1.19      ,  0.85      ],\n",
       "       [-1.42      ,  0.55      ],\n",
       "       [-1.18      ,  1.6       ],\n",
       "       [-1.59      ,  1.2       ],\n",
       "       [-1.49      ,  2.35      ],\n",
       "       [-0.94      ,  1.65      ],\n",
       "       [-0.85      ,  0.95      ],\n",
       "       [-0.69      ,  0.4       ],\n",
       "       [-0.64      ,  0.45      ],\n",
       "       [-0.27      ,  0.4       ],\n",
       "       [-0.07      ,  0.65      ],\n",
       "       [-0.24      ,  0.65      ],\n",
       "       [-0.2       ,  1.        ],\n",
       "       [-0.35      ,  0.9       ],\n",
       "       [-0.82      ,  1.5       ],\n",
       "       [-0.8       ,  1.2       ],\n",
       "       [-0.6       ,  1.6       ],\n",
       "       [-0.62      ,  0.65      ],\n",
       "       [-0.16      ,  0.75      ],\n",
       "       [ 0.18      ,  0.25      ],\n",
       "       [ 0.42      ,  0.07093023],\n",
       "       [ 0.53      ,  0.08023256],\n",
       "       [ 0.69      , -0.09302326],\n",
       "       [ 0.71      ,  0.14767442],\n",
       "       [ 0.92      , -0.60697674],\n",
       "       [ 1.43      , -0.3255814 ],\n",
       "       [ 1.68      , -1.65      ],\n",
       "       [ 1.53      , -1.6       ],\n",
       "       [ 1.19      , -1.9       ],\n",
       "       [ 1.11      , -1.1       ],\n",
       "       [ 0.59      ,  0.45      ],\n",
       "       [-0.11      ,  0.75      ],\n",
       "       [-0.55      ,  0.7       ],\n",
       "       [-0.92      ,  1.3       ],\n",
       "       [-1.21      ,  1.4       ],\n",
       "       [-1.31      ,  1.75      ],\n",
       "       [-1.41      ,  1.5       ],\n",
       "       [-1.44      ,  1.4       ],\n",
       "       [-1.21      ,  2.55      ],\n",
       "       [-1.48      ,  2.15      ],\n",
       "       [-1.19      ,  2.5       ],\n",
       "       [-0.83      ,  2.1       ],\n",
       "       [-0.76      ,  1.5       ],\n",
       "       [-0.39      ,  0.35      ],\n",
       "       [-0.31      ,  0.05      ],\n",
       "       [-0.19      ,  0.5       ],\n",
       "       [-0.42      ,  0.3       ],\n",
       "       [-0.67      ,  0.6       ],\n",
       "       [-0.71      ,  0.85      ],\n",
       "       [-0.98      ,  0.95      ],\n",
       "       [-0.99      ,  2.        ],\n",
       "       [-0.65      ,  1.4       ],\n",
       "       [-0.55      ,  1.2       ],\n",
       "       [-0.44      ,  0.8       ],\n",
       "       [-0.51      , -0.1       ],\n",
       "       [-0.19      ,  0.        ],\n",
       "       [ 0.24      , -0.15      ],\n",
       "       [ 0.27      , -0.4       ],\n",
       "       [ 0.68      , -0.05      ],\n",
       "       [ 0.44      , -0.15      ],\n",
       "       [ 0.36      , -0.05      ],\n",
       "       [ 0.5       ,  0.05      ],\n",
       "       [-0.47      , -0.05      ],\n",
       "       [-0.48      , -0.2       ],\n",
       "       [-0.48      , -0.05      ],\n",
       "       [-0.22      ,  0.65      ],\n",
       "       [ 0.11      ,  0.4       ],\n",
       "       [-0.3       ,  0.7       ],\n",
       "       [-0.34      ,  0.8       ],\n",
       "       [-0.26      ,  0.7       ],\n",
       "       [-0.47      ,  0.5       ],\n",
       "       [ 0.05      ,  0.3       ],\n",
       "       [-0.15      ,  0.        ],\n",
       "       [-0.09      ,  0.6       ],\n",
       "       [-0.18      ,  0.4       ],\n",
       "       [-0.49      ,  0.8       ],\n",
       "       [-0.85      ,  0.15      ],\n",
       "       [-0.34      , -1.        ],\n",
       "       [ 0.18      , -0.1       ],\n",
       "       [ 0.45      ,  0.2       ],\n",
       "       [ 0.47      , -0.25      ],\n",
       "       [-0.03      , -0.2       ],\n",
       "       [-0.01      , -0.2       ],\n",
       "       [ 0.31      , -0.35      ],\n",
       "       [ 0.43      , -0.4       ],\n",
       "       [ 0.75      , -0.35      ],\n",
       "       [ 0.63      , -0.3       ],\n",
       "       [ 0.51      , -0.35      ],\n",
       "       [ 0.75      ,  0.05      ],\n",
       "       [ 0.44      , -1.3       ],\n",
       "       [ 0.82      , -0.5       ],\n",
       "       [ 0.83      , -0.8       ],\n",
       "       [ 1.02      , -1.        ],\n",
       "       [ 1.26      , -0.75      ],\n",
       "       [ 1.65      , -1.45      ],\n",
       "       [ 1.79      , -1.65      ],\n",
       "       [ 2.21      , -1.6       ],\n",
       "       [ 2.72      , -1.        ],\n",
       "       [ 2.39      , -1.65      ],\n",
       "       [ 2.47      , -2.1       ],\n",
       "       [ 2.23      , -2.2       ],\n",
       "       [ 1.61      , -0.85      ],\n",
       "       [ 0.98      , -1.05      ],\n",
       "       [ 0.27      ,  0.1       ],\n",
       "       [ 0.02      ,  0.35      ],\n",
       "       [-0.42      ,  0.4       ],\n",
       "       [-0.49      ,  0.7       ],\n",
       "       [-0.43      ,  0.95      ],\n",
       "       [-0.7       ,  0.3       ],\n",
       "       [-0.64      ,  0.55      ],\n",
       "       [-0.33      ,  0.75      ],\n",
       "       [-0.26      ,  0.55      ],\n",
       "       [ 0.1       ,  0.65      ],\n",
       "       [ 0.21      ,  1.        ],\n",
       "       [ 0.36      ,  0.1       ],\n",
       "       [ 0.42      ,  0.2       ],\n",
       "       [ 0.39      ,  0.1       ],\n",
       "       [ 0.28      ,  0.1       ],\n",
       "       [-0.06      ,  0.35      ],\n",
       "       [-0.32      ,  0.6       ],\n",
       "       [-0.37      ,  0.75      ],\n",
       "       [-0.91      ,  0.9       ],\n",
       "       [-0.93      ,  0.3       ],\n",
       "       [-0.7       ,  1.4       ],\n",
       "       [-0.67      , -0.25      ],\n",
       "       [-0.73      ,  1.        ],\n",
       "       [-0.49      ,  0.85      ],\n",
       "       [-0.11      ,  0.7       ],\n",
       "       [ 0.15      ,  0.45      ],\n",
       "       [ 0.22      ,  0.2       ],\n",
       "       [ 0.28      ,  0.        ],\n",
       "       [ 0.33      , -0.35      ],\n",
       "       [ 0.86      ,  0.35      ],\n",
       "       [ 0.86      , -0.3       ],\n",
       "       [ 0.9       ,  0.35      ],\n",
       "       [ 0.67      , -0.35      ],\n",
       "       [ 0.71      , -1.6       ],\n",
       "       [ 0.97      , -0.75      ],\n",
       "       [ 0.72      , -0.35      ],\n",
       "       [ 0.75      , -0.55      ],\n",
       "       [ 0.6       , -0.4       ],\n",
       "       [ 0.42      , -0.15      ],\n",
       "       [ 0.15      , -0.05      ],\n",
       "       [-0.01      , -0.35      ],\n",
       "       [ 0.52      ,  0.        ],\n",
       "       [ 0.46      , -0.45      ],\n",
       "       [ 0.44      , -0.4       ],\n",
       "       [ 0.52      , -0.25      ],\n",
       "       [ 0.35      , -0.7       ],\n",
       "       [ 0.46      ,  0.        ],\n",
       "       [ 0.41      ,  0.45      ],\n",
       "       [-0.21      ,  0.55      ],\n",
       "       [-0.27      ,  0.35      ],\n",
       "       [-0.14      ,  0.6       ],\n",
       "       [-0.52      ,  0.95      ],\n",
       "       [-0.64      ,  0.85      ],\n",
       "       [-1.13      ,  0.8       ],\n",
       "       [-1.23      ,  0.95      ],\n",
       "       [-0.99      ,  1.8       ],\n",
       "       [-0.9       ,  2.05      ],\n",
       "       [-0.87      ,  1.3       ],\n",
       "       [-0.55      ,  0.95      ],\n",
       "       [-0.57      ,  0.2       ],\n",
       "       [-0.32      ,  0.35      ],\n",
       "       [-0.04      ,  0.6       ],\n",
       "       [-0.19      ,  0.85      ],\n",
       "       [-0.28      ,  0.8       ],\n",
       "       [-0.27      ,  0.75      ],\n",
       "       [-0.77      ,  0.95      ],\n",
       "       [-0.85      ,  1.2       ],\n",
       "       [-1.05      ,  1.3       ],\n",
       "       [-0.83      ,  0.8       ],\n",
       "       [-0.71      ,  1.35      ],\n",
       "       [-0.89      ,  1.8       ],\n",
       "       [-0.95      ,  1.65      ],\n",
       "       [-1.05      ,  1.45      ],\n",
       "       [-0.68      ,  1.35      ],\n",
       "       [-0.62      ,  0.8       ],\n",
       "       [-0.98      ,  1.1       ],\n",
       "       [-0.93      ,  1.4       ],\n",
       "       [-0.85      ,  1.45      ],\n",
       "       [-0.93      ,  0.8       ],\n",
       "       [-0.84      ,  1.9       ],\n",
       "       [-0.69      ,  1.6       ],\n",
       "       [-0.44      ,  1.4       ],\n",
       "       [-0.01      ,  0.8       ],\n",
       "       [ 0.1       ,  0.3       ]])"
      ]
     },
     "execution_count": 27,
     "metadata": {},
     "output_type": "execute_result"
    }
   ],
   "source": [
    "data1 = df3[['Anom3.4','OLR','SOI']]\n",
    "df3['promedio_OS'] = (df3.OLR + df3.SOI)/2\n",
    "data1 = df3[['Anom3.4', 'promedio_OS']].to_numpy()\n",
    "data1"
   ]
  },
  {
   "cell_type": "code",
   "execution_count": 28,
   "metadata": {},
   "outputs": [
    {
     "name": "stdout",
     "output_type": "stream",
     "text": [
      "KeplerMapper(verbose=1)\n",
      "..Composing projection pipeline of length 1:\n",
      "\tProjections: [1]\n",
      "\tDistance matrices: False\n",
      "\tScalers: MinMaxScaler()\n",
      "..Projecting on data shaped (496, 2)\n",
      "\n",
      "..Projecting data using: [1]\n",
      "\n",
      "..Scaling with: MinMaxScaler()\n",
      "\n"
     ]
    }
   ],
   "source": [
    "#mean_outer_score1=(data1[:,1]+data1[:,2])/2.0\n",
    "\n",
    "mapper1 = km.KeplerMapper(verbose=1)\n",
    "# La proyección sobre Anom3.4, corresponde a proyectar sobre la PRIMER columna de data\n",
    "projected_data1 = mapper1.fit_transform(data1, projection=[1] ) #promedio_OS"
   ]
  },
  {
   "cell_type": "code",
   "execution_count": 29,
   "metadata": {},
   "outputs": [
    {
     "name": "stdout",
     "output_type": "stream",
     "text": [
      "Mapping on data shaped (496, 2) using lens shaped (496, 1)\n",
      "\n",
      "Creating 4 hypercubes.\n",
      "\n",
      "Created 11 edges and 16 nodes in 0:00:00.144762.\n"
     ]
    },
    {
     "name": "stderr",
     "output_type": "stream",
     "text": [
      "c:\\Users\\feder\\anaconda3\\envs\\RetoEquipo1\\lib\\site-packages\\sklearn\\cluster\\_kmeans.py:870: FutureWarning: The default value of `n_init` will change from 10 to 'auto' in 1.4. Set the value of `n_init` explicitly to suppress the warning\n",
      "  warnings.warn(\n",
      "c:\\Users\\feder\\anaconda3\\envs\\RetoEquipo1\\lib\\site-packages\\sklearn\\cluster\\_kmeans.py:870: FutureWarning: The default value of `n_init` will change from 10 to 'auto' in 1.4. Set the value of `n_init` explicitly to suppress the warning\n",
      "  warnings.warn(\n",
      "c:\\Users\\feder\\anaconda3\\envs\\RetoEquipo1\\lib\\site-packages\\sklearn\\cluster\\_kmeans.py:870: FutureWarning: The default value of `n_init` will change from 10 to 'auto' in 1.4. Set the value of `n_init` explicitly to suppress the warning\n",
      "  warnings.warn(\n",
      "c:\\Users\\feder\\anaconda3\\envs\\RetoEquipo1\\lib\\site-packages\\sklearn\\cluster\\_kmeans.py:870: FutureWarning: The default value of `n_init` will change from 10 to 'auto' in 1.4. Set the value of `n_init` explicitly to suppress the warning\n",
      "  warnings.warn(\n"
     ]
    }
   ],
   "source": [
    "covering1=km.Cover(n_cubes=4,perc_overlap=0.2)\n",
    "\n",
    "G1 = mapper1.map(projected_data1, data1, clusterer=sklearn.cluster.KMeans(n_clusters=4),cover=covering1)"
   ]
  },
  {
   "cell_type": "code",
   "execution_count": 30,
   "metadata": {},
   "outputs": [
    {
     "data": {
      "text/plain": [
       "{'projection': '[1]',\n",
       " 'n_cubes': 4,\n",
       " 'perc_overlap': 0.2,\n",
       " 'clusterer': 'KMeans(n_clusters=4)',\n",
       " 'scaler': 'MinMaxScaler()'}"
      ]
     },
     "execution_count": 30,
     "metadata": {},
     "output_type": "execute_result"
    }
   ],
   "source": [
    "G1['meta_data']"
   ]
  },
  {
   "cell_type": "code",
   "execution_count": 31,
   "metadata": {},
   "outputs": [
    {
     "name": "stdout",
     "output_type": "stream",
     "text": [
      "Wrote visualization to: mapper_visualization_output.html\n"
     ]
    },
    {
     "data": {
      "text/html": [
       "<style>\n",
       "        .container { width:100% !important; }\n",
       "        .output_scroll {height: 800px !important;}\n",
       "        </style>"
      ],
      "text/plain": [
       "<IPython.core.display.HTML object>"
      ]
     },
     "metadata": {},
     "output_type": "display_data"
    },
    {
     "name": "stderr",
     "output_type": "stream",
     "text": [
      "c:\\Users\\feder\\anaconda3\\envs\\RetoEquipo1\\lib\\site-packages\\IPython\\core\\display.py:419: UserWarning: Consider using IPython.display.IFrame instead\n",
      "  warnings.warn(\"Consider using IPython.display.IFrame instead\")\n"
     ]
    },
    {
     "data": {
      "text/html": [
       "<iframe src=performance_math_score.html width=100%% height=800 frameBorder=\"0\"></iframe>"
      ],
      "text/plain": [
       "<IPython.core.display.HTML object>"
      ]
     },
     "metadata": {},
     "output_type": "display_data"
    }
   ],
   "source": [
    "mapper1.visualize(G1, \n",
    "                title='Performance Data based on Mean of other TWO and Anom3.4',\n",
    "                #custom_tooltips = performance_data['gender'].to_numpy(),\n",
    "                color_values = data1[:,0],\n",
    "                color_function_name = 'Anom3.4',\n",
    "                node_color_function=np.array(['average','std','sum','max','min']))\n",
    "\n",
    "km.jupyter.display(\"performance_math_score\" + \".html\")"
   ]
  },
  {
   "cell_type": "code",
   "execution_count": null,
   "metadata": {},
   "outputs": [],
   "source": []
  }
 ],
 "metadata": {
  "kernelspec": {
   "display_name": "base",
   "language": "python",
   "name": "python3"
  },
  "language_info": {
   "codemirror_mode": {
    "name": "ipython",
    "version": 3
   },
   "file_extension": ".py",
   "mimetype": "text/x-python",
   "name": "python",
   "nbconvert_exporter": "python",
   "pygments_lexer": "ipython3",
   "version": "3.8.16"
  },
  "orig_nbformat": 4
 },
 "nbformat": 4,
 "nbformat_minor": 2
}
